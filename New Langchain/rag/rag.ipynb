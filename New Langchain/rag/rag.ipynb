{
 "cells": [
  {
   "cell_type": "code",
   "execution_count": 1,
   "metadata": {},
   "outputs": [
    {
     "data": {
      "text/plain": [
       "4"
      ]
     },
     "execution_count": 1,
     "metadata": {},
     "output_type": "execute_result"
    }
   ],
   "source": [
    "2+2\n"
   ]
  },
  {
   "cell_type": "code",
   "execution_count": 2,
   "metadata": {},
   "outputs": [
    {
     "data": {
      "text/plain": [
       "[Document(page_content='I have a dream that one day down in Alabama, with its vicious racists, with its governor having his lips dripping with the words of interposition and nullification â€“ one day right there in Alabama little black boys and black girls will be able to join hands with little white boys and white girls as sisters and brothers.\\n\\nI have a dream today.\\n\\nI have a dream that one day every valley shall be exalted, and every hill and mountain shall be made low, the rough places will be made plain, and the crooked places will be made straight, and the glory of the Lord shall be revealed and all flesh shall see it together.\\n\\nThis is our hope. This is the faith that I go back to the South with. With this faith we will be able to hew out of the mountain of despair a stone of hope. With this faith we will be able to transform the jangling discords of our nation into a beautiful symphony of brotherhood. With this faith we will be able to work together, to pray together, to struggle together, to go to jail together, to stand up for freedom together, knowing that we will be free one day.\\n\\nThis will be the day, this will be the day when all of Godâ€™s children will be able to sing with new meaning â€œMy country â€™tis of thee, sweet land of liberty, of thee I sing. Land where my fatherâ€™s died, land of the Pilgrimâ€™s pride, from every mountainside, let freedom ring!', metadata={'source': 'speech.txt'})]"
      ]
     },
     "execution_count": 2,
     "metadata": {},
     "output_type": "execute_result"
    }
   ],
   "source": [
    "#data inngestion\n",
    "from langchain_community.document_loaders import TextLoader\n",
    "loader = TextLoader(\"speech.txt\")\n",
    "\n",
    "text_documents = loader.load()\n",
    "text_documents\n",
    "\n"
   ]
  },
  {
   "cell_type": "code",
   "execution_count": 3,
   "metadata": {},
   "outputs": [],
   "source": [
    "import os\n",
    "from dotenv import load_dotenv\n",
    "load_dotenv()\n",
    "\n",
    "os.environ['OPENAI_API_KEY'] = os.getenv('OPENAI_API_KEY')"
   ]
  },
  {
   "cell_type": "code",
   "execution_count": 9,
   "metadata": {},
   "outputs": [],
   "source": [
    "#web based loader data ingestion tech\n",
    "from langchain_community.document_loaders import WebBaseLoader\n",
    "import bs4\n",
    "#load,chunk and index the web page\n",
    "loader=WebBaseLoader(web_paths=(\"https://lilianweng.github.io/posts/2023-06-23-agent/\",),\n",
    "                     bs_kwargs=dict(parse_only=bs4.SoupStrainer(\n",
    "                         class_=(\"post-title\",\"post-content\",\"post-header\")\n",
    "                                                                )\n",
    "                                    )\n",
    "                    )\n",
    "\n",
    "text_documents = loader.load()"
   ]
  },
  {
   "cell_type": "code",
   "execution_count": 1,
   "metadata": {},
   "outputs": [],
   "source": [
    "from langchain_community.document_loaders import PyPDFLoader\n",
    "loader = PyPDFLoader('apjspeech.pdf')\n",
    "docs = loader.load()\n",
    "\n"
   ]
  },
  {
   "cell_type": "code",
   "execution_count": 2,
   "metadata": {},
   "outputs": [
    {
     "data": {
      "text/plain": [
       "[Document(page_content='A P J Abdul Kalam Departing speech \\n \\n \\nFriends, I am delighted to address you all, in the country and those livi ng abroad, after \\nworking with you and completing five beautiful and eventful years in Rashtrapati \\nBhavan. Today, it is indeed a thanks giving occasion. I would like to narr ate, how I \\nenjoyed every minute of my tenure enriched by the wonderful assoc iation from each one \\nof you, hailing from different walks of life, be it politics, sci ence and technology, \\nacademics, arts, literature, business, judiciary, administration, local bodies, farming, \\nhome makers, special children, media and above all from the youth and st udent \\ncommunity who are the future wealth of our country. During my intera ction at \\nRashtrapati Bhavan in Delhi and at every state and union territor y as well as through my \\nonline interactions, I have many unique experiences to share with you, which signify the \\nfollowing important messages: \\n \\n1. Accelerate development : Aspiration of the youth, \\n \\n2. Empower villages, \\n \\n3. Mobilize rural core competence for competitiveness, \\n \\n4. Seed to Food: Backbone for agricultural growth \\n \\n5. Defeat problems and succeed, \\n \\n6. Overcome problems through partnership, \\n \\n7. Courage in combating calamities, \\n \\n8. Connectivity for societal transformation, \\n \\n9. Defending the nation: Our pride and \\n \\n10. Youth movement for Developed India 2020. \\n \\nNow let me share with you each of the messages. \\n \\nAccelerate Development: Aspiration of the youth \\nWhile there were many significant events during my tenure, a que stion from a little girl \\nAnukriti of Sri Sathya Sai Jagriti Vidya Mandir School, of Dar wa village from Haryana, \\nduring children’s visit to Rashtrapati Bhavan on May 22, 2006, rings in my  mind ever \\nafter. \\n \\nAnukriti asked me “why India cannot become a developed nation before the year 2020”. I \\nappreciated the question and said it was indeed a thoughtful question and as sured her that \\nthat her dream would be taken to the highest institution of the nation and we would work ', metadata={'source': 'apjspeech.pdf', 'page': 0}),\n",
       " Document(page_content='for it to achieve before 2020. This question reflects how the desire t o live in developed \\nIndia has entered into the minds of the youth. The same feelings are  echoed by over \\nfifteen lakh youth, whom I have met so far and who represent the drea m of the 540 \\nmillion youth of the nation. The aspirations of the young to live in a prosperous, safe and \\nproud India should be the guiding factor in whatever profession we contribute. \\n \\nEmpower Villages \\nFriends, I recall my visit to Nagaland on 26th October 2002, soon after m y assuming \\noffice as President. It was a unique experience for me at Khuza ma village to meet tribal \\nvillage council members and discuss with them the village progress  and the dream of \\nvillage citizens. I was very happy to see the empowered village  council functioning with \\nfinancial powers and taking decisions. I saw a prosperous village with fruits and \\nvegetables production. However, there is a need for providing physical c onnectivity in \\nNagaland through quality roads for enabling faster movement of produ cts from villages \\nto the market. That meeting gave me a powerful message about the t ransformation which \\ncan take place to the 600,000 villages of India, if all the villages a re empowered to deal \\nwith their development and are well connected among themselves and wit h the urban \\nsocieties. \\n \\nMobilizing rural core competence for competitiveness \\nNow I would like to talk about the initiative of Periyar Maniammai  College of \\nTechnology for Women, Vallam, Tanjore of Providing Urban Amenities in Rural Areas \\n(PURA) complex involving 65 villages with a population of 3 lakhs. This inc ludes \\nprovision of three connectivities - physical, electronic and knowledge  - leading to \\neconomic connectivity. Periyar PURA has health care centers, pr imary to post graduate \\nlevel education and vocational training centers. This has resulted i n large-scale \\nemployment generation and creation of number of entrepreneurs with the  active support \\nof 1000 self-help groups. Two hundred acres of waste land has been develope d into a \\ncultivable land. The villagers are busy in cultivation, planting Jatropha, herbal and \\nmedicinal plants, power generation using bio-mass, food processing and above all \\nrunning marketing centers. It provides a sustainable economic developm ent model for the \\nwhole region. \\n \\nDuring the last eight months, people of Periyar PURA villages technologically supported \\nby Periyar Maniammai College of Engineering for Women have w orked with experts \\nfrom Japan External Trade Organisation (JETRO) on various products, for  which core \\ncompetence and raw material are available in Thanjavur district. They developed \\ninternationally competitive prototypes for 55 life style products wi th support of JETRO \\nspecialists and feedback from exhibitions at Delhi and Tokyo. This co -operative venture \\nhas enhanced the innovative ability of the people of all the 65 villages  enabling them to \\ndevelop and produce internationally acceptable products. I have seen si milar type of \\nPURA being established in many states. The whole country needs 7000 PU RA to \\nbridging the rural – urban divide. \\n \\nSeed to Food: Backbone for agricultural growth ', metadata={'source': 'apjspeech.pdf', 'page': 1}),\n",
       " Document(page_content='Let me now share with you, the enriching experience I had, whil e meeting more than \\n6000 farmers from different States and Union Territories visitin g Rashtrapati Bhavan. \\nThey evinced keen interest in the Mughal Gardens, the Herbal Gardens , the Spiritual \\nGarden, the Musical Garden, the Bio-diesel garden and the Nutrition Garden and interact \\nwith the Horticultural specialists. Recently, during my address to the agricultural \\nscientists while participating in a National Symposium on “Agri culture Cannot Wait”, I \\nsummarized the many practical suggestions given by farmers. W e have to double the \\nagricultural production with reduced land, reduced water resources and re duced \\nmanpower and improve the economic conditions of the nation through the principle  of \\n“Seed to Food” since agriculture is the backbone of the nation. We should em power the \\nfarmers to protect and nurture the fertile land for second green re volution. Meeting the \\nScientists and the Farmers has given me the confidence \\nthat the nation is poised to increase the agricultural GDP growth by atleast 4% per annum \\nthrough the partnership of farmers and agricultural scientists a nd industries particularly \\nfor value addition. \\n \\nDefeat the problems and succeed \\nOn the evening of February 24, 2007, at Coimbatore, I had a very beautif ul experience. \\nAs I got ready for meeting the first person out of twenty appoint ments, a wheel chair was \\nin sight with a smiling person probably in his late fifties; unfortunately he has no hands \\nand legs. His radiant face was revealing his happy state of mi nd. He introduced himself \\nas Vidwan Coimbatore SR Krishna Murthy. I greeted him and asked him  how this had \\nhappened. He smilingly said that it was from by birth. He thanked G od, his parents, \\nteachers and many others for giving him confidence, training and he lp. I asked him, what \\nI could do for him? He said, “I don’t need anything from you. I would like to sing in fr ont \\nof you”. I readily agreed. He sang melodiously the Saint Thyagraj a’s pancha ratna kriti \\nentharo mahanubavulu in Sriragam giving me a glimpse of his talent. I was quite  touched. \\nWhat is the message? Despite being physically challenged, the latent talent of music \\ncould blossom in this \\nperson with his positive attitude and perseverance, encouraged by the pa rents, teachers, \\nacademics and rasikas. Now he wants to give, give and give his art to inspire others. Of \\ncourse, by his merit of music, in July 2007, he performed in the Rashtra pati Bhavan art \\ntheatre. \\n \\nOvercome the impact of disaster through partnership \\nI had the opportunity to experience the Indomitable Spirit of the people  and children of \\nJammu & Kashmir even as they were just recovering from the de vastating earthquake in \\n2005. I visited Urusa village on 26th November 2005 which has been adopted by the  \\nWestern Air Command, Air Force for providing relief and medical aid to the residents of \\nthat area. When I went there, I found that the school building had been severely  damaged. \\nI met all the school children and the village citizen of Urusa. T he villagers apprised me of \\ntheir losses and had all praise for Army and Air Force role in rescue and relief operations \\nalong with state government. I appreciate the courage of the people of Urusa in defeating \\ntheir problems. They have actually become the master of the probl em rather than \\nallowing problems to become their master. Despite the severe l oss due to the earthquake, ', metadata={'source': 'apjspeech.pdf', 'page': 2}),\n",
       " Document(page_content='the children and the members of the village participated in the reli ef operation with the \\nArmed Forces \\nbravely and were smiling when I went to meet them. They interact ed with me and said \\nthat the school was functional in the temporary tents. Here, I also witnessed the \\nparticipation of acting Chief Justice of Jammu & Kashmir along with State Government \\nauthorities in on-the-spot settlement of relief grants to be provide d to the victims whose \\nhouses had been damaged in the earth quake. I have experienced many s uch acts of \\ncourage from our citizens when faced with severe challenges. \\n \\nCourage in combating calamities \\nIn 2005, I met the Tribal Council Leaders, Students, Children of Chuckchucha  village \\nduring my visit to Car Nicobar Islands. While various reconstruction a nd rehabilitation \\nactivities were in progress, during the discussions with the members  of tribal council, I \\nrealized the unique trait among the Car-Nicobar islanders. Even thoug h there were many \\nhuman losses due to the Tsunami of 26 Dec 2004, the tribal islanders had  taken \\npossession of affected victims as their children and there is nothi ng like orphanage in \\nCar-Nicobar Islands. Touched by their courage, I composed few vers es called “Sea \\nWaves” which reads as follows: \\nSea Waves \\n \\nWe are the children of Sea waves, \\nSea waves are my friends. \\nWhen they become angry, \\nSea waves give the challenges. \\nGod has given the courage, \\nTo challenge the sea waves. \\nAnd we will succeed, \\nWe will succeed \\nWith Almighty’s grace. \\nAll the members who were gathered in the village sang the poem  with me and exhibited \\nlots of courage and enthusiasm even though they had gone through severe  suffering \\nduring the Tsunami. \\n \\nConnectivity for societal transformation \\nI addressed the Pan African Parliament on 16 September 2004, at Johanne sburg, South \\nAfrica. This was attended by 53 member countries of the Africa n Union, where I \\nproposed the concept of Pan African e-Network for providing seamless and integrated \\nsatellite, fiber optics and wireless network connecting 53 African countries at an \\nestimated cost of US $ 100 million. \\n \\nAs part of the project 12 universities (7 from India and 5 from Afri ca), 17 Super \\nSpecialty Hospitals (12 from India and 5 from Africa), 53 tele-me dicine centers and 53 \\ntele-education centres in Africa will be connected. The pilot proj ect on tele-education and \\ntele-medicine in Ethiopia has already been commissioned. Indira Gandh i National Open \\nUniversity has taken up the MBA Course for 34 Ethiopian students of Addis  Ababa and \\nHarmaya Universities. As regards, tele-medicine, the special ists from CARE Hospital, ', metadata={'source': 'apjspeech.pdf', 'page': 3}),\n",
       " Document(page_content='Hyderabad are providing one-hour live tele-consultation to doctors in B lack Lion \\nHospital, Addis Ababa in Cardiology and Radiology since November 2006. Using the \\nPan African network the Heads of the State in all the 53 countries  will be connected for \\ninstant communication. I am extremely happy that Indian experience  in bringing the \\nbenefits of technology to the people has enabled us to work with Afric a to bring societal \\ntransformation in the African continent. \\n \\nDefending the nation: Our pride \\nI visited KUMAR in Siachen Glacier located at 17,000 feet altitude  held by the Indian \\nArmy, had a memorable underwater journey in INS Sindhurakshak and flew  in a Sukhoi-\\n30 fighter experiencing 2.5 g. In these three experiences, I personal ly felt proud of our \\never vigilant Soldiers, Sailors and Air Warriors performing their  tasks beyond the call of \\ntheir duty even in the most adverse circumstances natural and man m ade. During the last \\nfive years, I had an opportunity to present colours to many regime nts, participate in \\nnumber of passing out parades, meet the troops who were going to undertake  peace \\nmissions and interact with the family members of our Defence F orces. Our Defence \\nForces are in a beautiful mission. When the nation sleeps during night , Members of our \\nDefence teams are awake to guard us and remain vigilant to counte r any threat. The \\nNation cherishes the valour, commitment and devotion to duty of our Defenc e Forces. \\nSimilarly, I had opportunities to interact \\nwith members of our para-military forces, central and state poli ce personnel including \\ninternal security forces who are making immense contribution in au gmenting the safety \\nand security of our citizens under difficult conditions. \\n \\nYouth movement for Developed India 2020 \\nRecently, in Hyderabad, I met a group of citizens who are putting i nto practice the motto \\nof transforming of our youth into enlightened citizen. The Lead India 2020 Found ation \\ncreated by Dr. N.B. Sudershan at Hyderabad is training thousands of s tudents in many \\ndistricts of Andhra Pradesh in partnership with the District Adm inistration. Particularly, I \\nhappened to know the transformation which has taken place among the students  of \\nMedak district. As per the district authorities the impact of the  training on the students is \\nvisible in terms of self-discipline, love for their parents and tea chers shedding of stage \\nfear and recognition of their duties towards the nation. I talke d to Ms. Padma, a student \\nleader from Andhra Pradesh Tribal Welfare School, Nalgonda who relat ed how she \\nweaned her father away from smoking after imbibing the spirit of  the 10 point oath from \\nthe Lead India Training Camp. This gives me an assurance that the  youth of our country \\nare on the right path \\nthrough this mission oriented programme. With the ignited minds of the  540 million \\nyouth below the age of 25, which I consider is the most powerful resour ce on the earth, \\nunder the earth and above the earth, we have to empower the youth through va lue based \\neducation and leadership. \\n \\nConclusion \\nI was touched by the variety of Indian panorama, emotional content of  the tune, cultural \\ndiversity and unity of minds in the vast land of ours. I have cited thes e examples just to \\ngive a glimpse of the richness of our tradition and effort being take n by different agencies ', metadata={'source': 'apjspeech.pdf', 'page': 4}),\n",
       " Document(page_content='to preserve it. There are also many new adventures by instituti ons and individuals. I have \\nexperienced many of them and learnt a lot about my country and our peopl e. Even while \\npursuing our economic growth, we need to do a lot to preserve the rich and diverse \\ntreasures of our culture and civilization. It is our duty for our fut ure generations. This has \\nto be done in a much larger scale through countrywide participatio n of multiple \\ninstitutions. Our country is blessed with natural resources, has shown c onsiderable \\nprogress in the last sixty years, and above all we have hard wor king people particularly \\nthe power of the 540 million youth of the country. Every sector of our count ry has given \\nme the \\nconfidence that India can become a developed nation well before 2020. Whomsoeve r, I \\nmet they constantly ask what they can give to the nation. We should c onstantly strive to \\nempower such members of the society. With this spirit, I am extr emely happy that we are \\non the right path. Here I am reminded of a famous poem: \\n\"When you wish upon a star, \\nMakes no difference who you are, \\nAnything your heart desires, \\nWill come to you” \\nThis poem is true to all of us, and particularly for our youth and i f they aim great, I am \\nsure they will reach close to the target or the target. \\n \\nMy dear citizens, let us resolve to continue to work for realizing the missions of \\ndeveloped India 2020 with the following distinctive profile. \\n \\n1. A Nation where the rural and urban divide has reduced to a thin line. \\n \\n2. A Nation where there is an equitable distribution and adequate acce ss to energy and \\nquality water. \\n \\n3. A Nation where agriculture, industry and service sector work together in sym phony. \\n \\n4. A Nation where education with value system is not denied to any meritorious \\ncandidates because of societal or economic discrimination. \\n \\n5. A Nation which is the best destination for the most talented s cholars, scientists, and \\ninvestors. \\n \\n6. A Nation where the best of health care is available to all. \\n \\n7. A Nation where the governance is responsive, transparent and corruption free. \\n \\n8. A Nation where poverty has been totally eradicated, illiterac y removed and crimes \\nagainst women and children are absent and none in the society feels alienated. \\n \\n9. A Nation that is prosperous, healthy, secure, peaceful and happy a nd continues with a \\nsustainable growth path. \\n ', metadata={'source': 'apjspeech.pdf', 'page': 5}),\n",
       " Document(page_content='10. A Nation that is one of the best places to live in and is proud of its leadership. \\n \\nFinally let me thank each one of you for showering your love and aff ection on me \\nthroughout the last five years by your cooperation and support. \\n \\nDear Citizens, I conclude my address by sharing with you my mission in life which is to \\nbring connectivity between billion hearts and minds of the people of Indi a in our \\nmulticultural society and to embed the self confidence that \"we c an do it\". I will be \\nalways with you, dear citizens, in the great mission of making Indi a a developed nation \\nbefore 2020. \\n \\nMay God bless you. \\n \\nJai hind. \\nDr. A. P. J. Abdul Kalam \\nwww.presidentofindia.nic.in ', metadata={'source': 'apjspeech.pdf', 'page': 6})]"
      ]
     },
     "execution_count": 2,
     "metadata": {},
     "output_type": "execute_result"
    }
   ],
   "source": [
    "docs"
   ]
  },
  {
   "cell_type": "code",
   "execution_count": 6,
   "metadata": {},
   "outputs": [
    {
     "ename": "ImportError",
     "evalue": "Could not import chromadb python package. Please install it with `pip install chromadb`.",
     "output_type": "error",
     "traceback": [
      "\u001b[1;31m---------------------------------------------------------------------------\u001b[0m",
      "\u001b[1;31mModuleNotFoundError\u001b[0m                       Traceback (most recent call last)",
      "File \u001b[1;32me:\\Gen-AI\\Langchain\\Generic Q&A\\venv\\lib\\site-packages\\langchain_community\\vectorstores\\chroma.py:81\u001b[0m, in \u001b[0;36mChroma.__init__\u001b[1;34m(self, collection_name, embedding_function, persist_directory, client_settings, collection_metadata, client, relevance_score_fn)\u001b[0m\n\u001b[0;32m     80\u001b[0m \u001b[38;5;28;01mtry\u001b[39;00m:\n\u001b[1;32m---> 81\u001b[0m     \u001b[38;5;28;01mimport\u001b[39;00m \u001b[38;5;21;01mchromadb\u001b[39;00m\n\u001b[0;32m     82\u001b[0m     \u001b[38;5;28;01mimport\u001b[39;00m \u001b[38;5;21;01mchromadb\u001b[39;00m\u001b[38;5;21;01m.\u001b[39;00m\u001b[38;5;21;01mconfig\u001b[39;00m\n",
      "\u001b[1;31mModuleNotFoundError\u001b[0m: No module named 'chromadb'",
      "\nDuring handling of the above exception, another exception occurred:\n",
      "\u001b[1;31mImportError\u001b[0m                               Traceback (most recent call last)",
      "Cell \u001b[1;32mIn[6], line 3\u001b[0m\n\u001b[0;32m      1\u001b[0m \u001b[38;5;28;01mfrom\u001b[39;00m \u001b[38;5;21;01mlangchain_community\u001b[39;00m\u001b[38;5;21;01m.\u001b[39;00m\u001b[38;5;21;01membeddings\u001b[39;00m \u001b[38;5;28;01mimport\u001b[39;00m OpenAIEmbeddings\n\u001b[0;32m      2\u001b[0m \u001b[38;5;28;01mfrom\u001b[39;00m \u001b[38;5;21;01mlangchain_community\u001b[39;00m\u001b[38;5;21;01m.\u001b[39;00m\u001b[38;5;21;01mvectorstores\u001b[39;00m \u001b[38;5;28;01mimport\u001b[39;00m Chroma\n\u001b[1;32m----> 3\u001b[0m db \u001b[38;5;241m=\u001b[39m \u001b[43mChroma\u001b[49m\u001b[38;5;241;43m.\u001b[39;49m\u001b[43mfrom_documents\u001b[49m\u001b[43m(\u001b[49m\u001b[43mdocs\u001b[49m\u001b[43m[\u001b[49m\u001b[43m:\u001b[49m\u001b[38;5;241;43m15\u001b[39;49m\u001b[43m]\u001b[49m\u001b[43m,\u001b[49m\u001b[43mOpenAIEmbeddings\u001b[49m\u001b[43m(\u001b[49m\u001b[43m)\u001b[49m\u001b[43m)\u001b[49m\n",
      "File \u001b[1;32me:\\Gen-AI\\Langchain\\Generic Q&A\\venv\\lib\\site-packages\\langchain_community\\vectorstores\\chroma.py:778\u001b[0m, in \u001b[0;36mChroma.from_documents\u001b[1;34m(cls, documents, embedding, ids, collection_name, persist_directory, client_settings, client, collection_metadata, **kwargs)\u001b[0m\n\u001b[0;32m    776\u001b[0m texts \u001b[38;5;241m=\u001b[39m [doc\u001b[38;5;241m.\u001b[39mpage_content \u001b[38;5;28;01mfor\u001b[39;00m doc \u001b[38;5;129;01min\u001b[39;00m documents]\n\u001b[0;32m    777\u001b[0m metadatas \u001b[38;5;241m=\u001b[39m [doc\u001b[38;5;241m.\u001b[39mmetadata \u001b[38;5;28;01mfor\u001b[39;00m doc \u001b[38;5;129;01min\u001b[39;00m documents]\n\u001b[1;32m--> 778\u001b[0m \u001b[38;5;28;01mreturn\u001b[39;00m \u001b[38;5;28mcls\u001b[39m\u001b[38;5;241m.\u001b[39mfrom_texts(\n\u001b[0;32m    779\u001b[0m     texts\u001b[38;5;241m=\u001b[39mtexts,\n\u001b[0;32m    780\u001b[0m     embedding\u001b[38;5;241m=\u001b[39membedding,\n\u001b[0;32m    781\u001b[0m     metadatas\u001b[38;5;241m=\u001b[39mmetadatas,\n\u001b[0;32m    782\u001b[0m     ids\u001b[38;5;241m=\u001b[39mids,\n\u001b[0;32m    783\u001b[0m     collection_name\u001b[38;5;241m=\u001b[39mcollection_name,\n\u001b[0;32m    784\u001b[0m     persist_directory\u001b[38;5;241m=\u001b[39mpersist_directory,\n\u001b[0;32m    785\u001b[0m     client_settings\u001b[38;5;241m=\u001b[39mclient_settings,\n\u001b[0;32m    786\u001b[0m     client\u001b[38;5;241m=\u001b[39mclient,\n\u001b[0;32m    787\u001b[0m     collection_metadata\u001b[38;5;241m=\u001b[39mcollection_metadata,\n\u001b[0;32m    788\u001b[0m     \u001b[38;5;241m*\u001b[39m\u001b[38;5;241m*\u001b[39mkwargs,\n\u001b[0;32m    789\u001b[0m )\n",
      "File \u001b[1;32me:\\Gen-AI\\Langchain\\Generic Q&A\\venv\\lib\\site-packages\\langchain_community\\vectorstores\\chroma.py:714\u001b[0m, in \u001b[0;36mChroma.from_texts\u001b[1;34m(cls, texts, embedding, metadatas, ids, collection_name, persist_directory, client_settings, client, collection_metadata, **kwargs)\u001b[0m\n\u001b[0;32m    681\u001b[0m \u001b[38;5;129m@classmethod\u001b[39m\n\u001b[0;32m    682\u001b[0m \u001b[38;5;28;01mdef\u001b[39;00m \u001b[38;5;21mfrom_texts\u001b[39m(\n\u001b[0;32m    683\u001b[0m     \u001b[38;5;28mcls\u001b[39m: Type[Chroma],\n\u001b[1;32m   (...)\u001b[0m\n\u001b[0;32m    693\u001b[0m     \u001b[38;5;241m*\u001b[39m\u001b[38;5;241m*\u001b[39mkwargs: Any,\n\u001b[0;32m    694\u001b[0m ) \u001b[38;5;241m-\u001b[39m\u001b[38;5;241m>\u001b[39m Chroma:\n\u001b[0;32m    695\u001b[0m \u001b[38;5;250m    \u001b[39m\u001b[38;5;124;03m\"\"\"Create a Chroma vectorstore from a raw documents.\u001b[39;00m\n\u001b[0;32m    696\u001b[0m \n\u001b[0;32m    697\u001b[0m \u001b[38;5;124;03m    If a persist_directory is specified, the collection will be persisted there.\u001b[39;00m\n\u001b[1;32m   (...)\u001b[0m\n\u001b[0;32m    712\u001b[0m \u001b[38;5;124;03m        Chroma: Chroma vectorstore.\u001b[39;00m\n\u001b[0;32m    713\u001b[0m \u001b[38;5;124;03m    \"\"\"\u001b[39;00m\n\u001b[1;32m--> 714\u001b[0m     chroma_collection \u001b[38;5;241m=\u001b[39m \u001b[38;5;28mcls\u001b[39m(\n\u001b[0;32m    715\u001b[0m         collection_name\u001b[38;5;241m=\u001b[39mcollection_name,\n\u001b[0;32m    716\u001b[0m         embedding_function\u001b[38;5;241m=\u001b[39membedding,\n\u001b[0;32m    717\u001b[0m         persist_directory\u001b[38;5;241m=\u001b[39mpersist_directory,\n\u001b[0;32m    718\u001b[0m         client_settings\u001b[38;5;241m=\u001b[39mclient_settings,\n\u001b[0;32m    719\u001b[0m         client\u001b[38;5;241m=\u001b[39mclient,\n\u001b[0;32m    720\u001b[0m         collection_metadata\u001b[38;5;241m=\u001b[39mcollection_metadata,\n\u001b[0;32m    721\u001b[0m         \u001b[38;5;241m*\u001b[39m\u001b[38;5;241m*\u001b[39mkwargs,\n\u001b[0;32m    722\u001b[0m     )\n\u001b[0;32m    723\u001b[0m     \u001b[38;5;28;01mif\u001b[39;00m ids \u001b[38;5;129;01mis\u001b[39;00m \u001b[38;5;28;01mNone\u001b[39;00m:\n\u001b[0;32m    724\u001b[0m         ids \u001b[38;5;241m=\u001b[39m [\u001b[38;5;28mstr\u001b[39m(uuid\u001b[38;5;241m.\u001b[39muuid1()) \u001b[38;5;28;01mfor\u001b[39;00m _ \u001b[38;5;129;01min\u001b[39;00m texts]\n",
      "File \u001b[1;32me:\\Gen-AI\\Langchain\\Generic Q&A\\venv\\lib\\site-packages\\langchain_community\\vectorstores\\chroma.py:84\u001b[0m, in \u001b[0;36mChroma.__init__\u001b[1;34m(self, collection_name, embedding_function, persist_directory, client_settings, collection_metadata, client, relevance_score_fn)\u001b[0m\n\u001b[0;32m     82\u001b[0m     \u001b[38;5;28;01mimport\u001b[39;00m \u001b[38;5;21;01mchromadb\u001b[39;00m\u001b[38;5;21;01m.\u001b[39;00m\u001b[38;5;21;01mconfig\u001b[39;00m\n\u001b[0;32m     83\u001b[0m \u001b[38;5;28;01mexcept\u001b[39;00m \u001b[38;5;167;01mImportError\u001b[39;00m:\n\u001b[1;32m---> 84\u001b[0m     \u001b[38;5;28;01mraise\u001b[39;00m \u001b[38;5;167;01mImportError\u001b[39;00m(\n\u001b[0;32m     85\u001b[0m         \u001b[38;5;124m\"\u001b[39m\u001b[38;5;124mCould not import chromadb python package. \u001b[39m\u001b[38;5;124m\"\u001b[39m\n\u001b[0;32m     86\u001b[0m         \u001b[38;5;124m\"\u001b[39m\u001b[38;5;124mPlease install it with `pip install chromadb`.\u001b[39m\u001b[38;5;124m\"\u001b[39m\n\u001b[0;32m     87\u001b[0m     )\n\u001b[0;32m     89\u001b[0m \u001b[38;5;28;01mif\u001b[39;00m client \u001b[38;5;129;01mis\u001b[39;00m \u001b[38;5;129;01mnot\u001b[39;00m \u001b[38;5;28;01mNone\u001b[39;00m:\n\u001b[0;32m     90\u001b[0m     \u001b[38;5;28mself\u001b[39m\u001b[38;5;241m.\u001b[39m_client_settings \u001b[38;5;241m=\u001b[39m client_settings\n",
      "\u001b[1;31mImportError\u001b[0m: Could not import chromadb python package. Please install it with `pip install chromadb`."
     ]
    }
   ],
   "source": [
    "from langchain_community.embeddings import OpenAIEmbeddings\n",
    "from langchain_community.vectorstores import Chroma\n",
    "db = Chroma.from_documents(docs[:15],OpenAIEmbeddings())"
   ]
  },
  {
   "cell_type": "code",
   "execution_count": null,
   "metadata": {},
   "outputs": [],
   "source": [
    "query = \"Whose speech is this\"\n",
    "result = db.similarity_search(query)\n",
    "result"
   ]
  }
 ],
 "metadata": {
  "kernelspec": {
   "display_name": "Python 3",
   "language": "python",
   "name": "python3"
  },
  "language_info": {
   "codemirror_mode": {
    "name": "ipython",
    "version": 3
   },
   "file_extension": ".py",
   "mimetype": "text/x-python",
   "name": "python",
   "nbconvert_exporter": "python",
   "pygments_lexer": "ipython3",
   "version": "3.10.0"
  }
 },
 "nbformat": 4,
 "nbformat_minor": 2
}
